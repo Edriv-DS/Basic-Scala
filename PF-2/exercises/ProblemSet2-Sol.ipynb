{
 "cells": [
  {
   "cell_type": "markdown",
   "metadata": {},
   "source": [
    "# Declarative Programming @ URJC\n",
    "# Functional programming\n",
    "## Problem Set 2: Algebraic data types"
   ]
  },
  {
   "cell_type": "markdown",
   "metadata": {},
   "source": [
    "## Exercise 1"
   ]
  },
  {
   "cell_type": "markdown",
   "metadata": {},
   "source": [
    "### Part a)"
   ]
  },
  {
   "cell_type": "markdown",
   "metadata": {},
   "source": [
    "Prove that the isomorphism $1+1 \\cong Boolean$ holds by implementing the following bijections: "
   ]
  },
  {
   "cell_type": "code",
   "execution_count": null,
   "metadata": {},
   "outputs": [],
   "source": [
    "def toBoolean(a: Either[Unit, Unit]): Boolean = \n",
    "    a match {\n",
    "        case Left(_) => false\n",
    "        case Right(_) => true\n",
    "    }"
   ]
  },
  {
   "cell_type": "code",
   "execution_count": null,
   "metadata": {},
   "outputs": [],
   "source": [
    "def fromBoolean(a: Boolean): Either[Unit, Unit] = \n",
    "    if (a) Right(()) \n",
    "    else Left(())"
   ]
  },
  {
   "cell_type": "markdown",
   "metadata": {},
   "source": [
    "Check that they are indeed mutual inverses, i.e. that for all $a: Boolean$, `toBoolean(fromBoolean(a))==a`, and that for all $a: Either[Unit, Unit]$, `fromBoolean(toBoolean(a))==a`."
   ]
  },
  {
   "cell_type": "code",
   "execution_count": null,
   "metadata": {},
   "outputs": [],
   "source": [
    "toBoolean(fromBoolean(true))==true\n",
    "toBoolean(fromBoolean(false))==false\n",
    "fromBoolean(toBoolean(Left(())))==Left(())\n",
    "fromBoolean(toBoolean(Right(())))==Right(())"
   ]
  },
  {
   "cell_type": "markdown",
   "metadata": {},
   "source": [
    "### Part b)"
   ]
  },
  {
   "cell_type": "markdown",
   "metadata": {},
   "source": [
    "Show that we can redefine `Option[A]` using `Either[A,Unit]`: "
   ]
  },
  {
   "cell_type": "code",
   "execution_count": null,
   "metadata": {},
   "outputs": [],
   "source": [
    "def from[A](o: Option[A]): Either[A, Unit] = \n",
    "    o match {\n",
    "        case None => Right(())\n",
    "        case Some(a) => Left(a)\n",
    "    }\n",
    "\n",
    "def to[A](e: Either[A, Unit]): Option[A] = \n",
    "    e match {\n",
    "        case Left(a) => Some(a)\n",
    "        case Right(()) => None\n",
    "    }"
   ]
  },
  {
   "cell_type": "markdown",
   "metadata": {},
   "source": [
    "Check that these functions are mutual inverses. For that, fix $A$ to particular types (e.g. `Boolean`, `Int`, etc.), and test the equivalences `from(to(e)) == e` and `to(from(o)) == o` for some values $o$ and $e$."
   ]
  },
  {
   "cell_type": "code",
   "execution_count": null,
   "metadata": {},
   "outputs": [],
   "source": [
    "to(from(None))==None\n",
    "to(from(Some(1)))==Some(1)\n",
    "to(from(Some('a')))==Some('a')\n",
    "from(to(Left('a')))==Left('a')\n",
    "from(to(Left(1)))==Left(1)\n",
    "from(to(Right(())))==Right(())"
   ]
  },
  {
   "cell_type": "markdown",
   "metadata": {},
   "source": [
    "## Exercise 2"
   ]
  },
  {
   "cell_type": "markdown",
   "metadata": {},
   "source": [
    "How many functions are there of type `1+1+1 => Boolean`? Identify all of them as alternative implementations of the following signature: "
   ]
  },
  {
   "cell_type": "code",
   "execution_count": null,
   "metadata": {},
   "outputs": [],
   "source": [
    "def f1(e: Either[Unit, Either[Unit, Unit]]): Boolean = \n",
    "    e match {\n",
    "        case Left(()) => ??? // true or false\n",
    "        case Right(Left(())) => ??? // true or false\n",
    "        case Right(Right(())) => ??? // true or false\n",
    "    }"
   ]
  },
  {
   "cell_type": "code",
   "execution_count": null,
   "metadata": {},
   "outputs": [],
   "source": [
    "def f1(e: Either[Unit, Either[Unit, Unit]]): Boolean = \n",
    "    e match {\n",
    "        case Left(()) => false // true or false\n",
    "        case Right(Left(())) => false // true or false\n",
    "        case Right(Right(())) => false // true or false\n",
    "    }"
   ]
  },
  {
   "cell_type": "code",
   "execution_count": null,
   "metadata": {},
   "outputs": [],
   "source": [
    "def f1(e: Either[Unit, Either[Unit, Unit]]): Boolean = \n",
    "    e match {\n",
    "        case Left(()) => true // true or false\n",
    "        case Right(Left(())) => false // true or false\n",
    "        case Right(Right(())) => false // true or false\n",
    "    }"
   ]
  },
  {
   "cell_type": "markdown",
   "metadata": {},
   "source": [
    "etc. (eight functions in total)"
   ]
  },
  {
   "cell_type": "markdown",
   "metadata": {},
   "source": [
    "Idem, as alternative lambda expressions:"
   ]
  },
  {
   "cell_type": "code",
   "execution_count": null,
   "metadata": {},
   "outputs": [],
   "source": [
    "val f1: Either[Unit, Either[Unit, Unit]] => Boolean = \n",
    "    {\n",
    "        case Left(()) => ??? // true or false\n",
    "        case Right(Left(())) => ???// true or false\n",
    "        case Right(Right(())) => ???// true or false\n",
    "    }"
   ]
  },
  {
   "cell_type": "markdown",
   "metadata": {},
   "source": [
    "## Exercise 3"
   ]
  },
  {
   "cell_type": "markdown",
   "metadata": {},
   "source": [
    "How many different implementations are there of the following function-method? Recall that two implementations will be considered different if the corresponding mathematical functions are different."
   ]
  },
  {
   "cell_type": "code",
   "execution_count": null,
   "metadata": {},
   "outputs": [],
   "source": [
    "def f1(b: Boolean): Either[Unit, Either[Unit, Unit]] = \n",
    "    Left(())\n",
    "\n",
    "def f2(b: Boolean): Either[Unit, Either[Unit, Unit]] = \n",
    "    Right(Left(()))\n",
    "\n",
    "def f3(b: Boolean): Either[Unit, Either[Unit, Unit]] = \n",
    "    Right(Right(()))\n",
    "\n",
    "def f4(b: Boolean): Either[Unit, Either[Unit, Unit]] = \n",
    "    if (b) Left(()) else Right(Left())\n",
    "\n",
    "def f5(b: Boolean): Either[Unit, Either[Unit, Unit]] = \n",
    "    if (b) Right(Left()) else Right(Right(()))\n",
    "\n",
    "def f6(b: Boolean): Either[Unit, Either[Unit, Unit]] = \n",
    "    if (b) Left(()) else Right(Right(()))\n",
    "\n",
    "def f7(b: Boolean): Either[Unit, Either[Unit, Unit]] = \n",
    "    if (!b) Left(()) else Right(Left())\n",
    "\n",
    "def f8(b: Boolean): Either[Unit, Either[Unit, Unit]] = \n",
    "    if (!b) Right(Left()) else Right(Right(()))\n",
    "\n",
    "def f9(b: Boolean): Either[Unit, Either[Unit, Unit]] = \n",
    "    if (!b) Left(()) else Right(Right(()))\n"
   ]
  },
  {
   "cell_type": "markdown",
   "metadata": {},
   "source": [
    "## Exercise 4"
   ]
  },
  {
   "cell_type": "markdown",
   "metadata": {},
   "source": [
    "Show that the following law holds for exponent types: $(Z^X)^Y \\cong Z^{X*Y}$, for all types $X$, $Y$ and $Z$."
   ]
  },
  {
   "cell_type": "code",
   "execution_count": null,
   "metadata": {},
   "outputs": [],
   "source": [
    "def curry[X, Y, Z](f: (X, Y) => Z): X => Y => Z = \n",
    "    (x: X) => (y: Y) => f(x,y)"
   ]
  },
  {
   "cell_type": "code",
   "execution_count": null,
   "metadata": {},
   "outputs": [],
   "source": [
    "def uncurry[X, Y, Z](f: X => Y => Z): (X, Y) => Z = \n",
    "    (x: X, y: Y) => f(x)(y)"
   ]
  },
  {
   "cell_type": "markdown",
   "metadata": {},
   "source": [
    "Implement function equality for the following signatures and check that both functions, `curry` and `uncurry`, are inverses of each other for two sample functions $ex1$ and $ex2$:  "
   ]
  },
  {
   "cell_type": "code",
   "execution_count": null,
   "metadata": {},
   "outputs": [],
   "source": [
    "def equal1(f1: Boolean => Boolean => Boolean, \n",
    "          f2: Boolean => Boolean => Boolean): Boolean = \n",
    "    f1(false)(false) == f2(false)(false) &&\n",
    "    f1(false)(true) == f2(false)(true) &&\n",
    "    f1(true)(false) == f2(true)(false) &&\n",
    "    f1(true)(true) == f2(true)(true)"
   ]
  },
  {
   "cell_type": "code",
   "execution_count": null,
   "metadata": {},
   "outputs": [],
   "source": [
    "def equal2(f1: (Boolean, Boolean) => Boolean, \n",
    "          f2: (Boolean, Boolean) => Boolean): Boolean = \n",
    "    f1(false,false) == f2(false,false) &&\n",
    "    f1(false,true) == f2(false,true) &&\n",
    "    f1(true,false) == f2(true,false) &&\n",
    "    f1(true,true) == f2(true,true)"
   ]
  },
  {
   "cell_type": "code",
   "execution_count": null,
   "metadata": {},
   "outputs": [],
   "source": [
    "def ex1: Boolean => Boolean => Boolean = b1 => b2 => false\n",
    "def ex2: (Boolean, Boolean) => Boolean = (b1, b2) => true"
   ]
  },
  {
   "cell_type": "code",
   "execution_count": null,
   "metadata": {},
   "outputs": [],
   "source": [
    "equal1(ex1, curry(uncurry(ex1)))\n",
    "equal2(ex2, uncurry(curry(ex2)))"
   ]
  },
  {
   "cell_type": "markdown",
   "metadata": {},
   "source": [
    "## Exercise 5"
   ]
  },
  {
   "cell_type": "markdown",
   "metadata": {},
   "source": [
    "Shows that the following law holds for exponent types: $(Y*Z)^X \\cong Y^X*Z^X$, for all types $X$, $Y$ and $Z$."
   ]
  },
  {
   "cell_type": "code",
   "execution_count": null,
   "metadata": {},
   "outputs": [],
   "source": [
    "def from[X, Y, Z]: (X => (Y, Z)) => (X => Y, X => Z) = \n",
    "    f => (x => f(x)._1, x => f(x)._2)"
   ]
  },
  {
   "cell_type": "code",
   "execution_count": null,
   "metadata": {},
   "outputs": [],
   "source": [
    "def to[X, Y, Z]: (X => Y, X => Z) => X => (Y, Z) = {\n",
    "    case (f1, f2) => x => (f1(x), f2(x))\n",
    "}"
   ]
  },
  {
   "cell_type": "markdown",
   "metadata": {},
   "source": [
    "Fix $X$, $Y$ and $Z$ to particular types, implement equality for the corresponding signatures and check that both functions, `from` and `to`, are inverses of each other given two sample functions of your choice.  "
   ]
  },
  {
   "cell_type": "code",
   "execution_count": null,
   "metadata": {},
   "outputs": [],
   "source": []
  }
 ],
 "metadata": {
  "kernelspec": {
   "display_name": "Scala",
   "language": "scala",
   "name": "scala"
  },
  "language_info": {
   "codemirror_mode": "text/x-scala",
   "file_extension": ".sc",
   "mimetype": "text/x-scala",
   "name": "scala",
   "nbconvert_exporter": "script",
   "version": "2.13.1"
  }
 },
 "nbformat": 4,
 "nbformat_minor": 4
}
